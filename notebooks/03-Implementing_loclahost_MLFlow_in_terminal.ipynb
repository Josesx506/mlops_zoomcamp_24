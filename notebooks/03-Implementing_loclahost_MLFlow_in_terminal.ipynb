{
 "cells": [
  {
   "cell_type": "code",
   "execution_count": 11,
   "id": "f93aa0dc",
   "metadata": {},
   "outputs": [],
   "source": [
    "from datetime import datetime\n",
    "import pandas as pd\n",
    "import pickle\n",
    "from sklearn.metrics import mean_squared_error\n",
    "\n",
    "import mlflow\n",
    "# After an experiment has been created, \n",
    "# this client can be used to search for experiments and register models\n",
    "from mlflow.tracking import MlflowClient\n",
    "\n",
    "from mlflow.entities import ViewType"
   ]
  },
  {
   "cell_type": "code",
   "execution_count": 2,
   "id": "e61a20c2",
   "metadata": {},
   "outputs": [
    {
     "name": "stderr",
     "output_type": "stream",
     "text": [
      "2023/04/09 17:32:51 INFO mlflow.store.db.utils: Creating initial MLflow database tables...\n",
      "2023/04/09 17:32:51 INFO mlflow.store.db.utils: Updating database tables\n",
      "INFO  [alembic.runtime.migration] Context impl SQLiteImpl.\n",
      "INFO  [alembic.runtime.migration] Will assume non-transactional DDL.\n",
      "INFO  [alembic.runtime.migration] Context impl SQLiteImpl.\n",
      "INFO  [alembic.runtime.migration] Will assume non-transactional DDL.\n"
     ]
    }
   ],
   "source": [
    "MLFLOW_TRACKING_URI = 'sqlite:///mlflow.db'  # sqlite database link\n",
    "\n",
    "client = MlflowClient(tracking_uri=MLFLOW_TRACKING_URI)"
   ]
  },
  {
   "cell_type": "code",
   "execution_count": 3,
   "id": "86a6e2c6",
   "metadata": {},
   "outputs": [
    {
     "name": "stdout",
     "output_type": "stream",
     "text": [
      "run id: c0c0c61d81ca42edb70508cb41125589, rmse: 6.2962\n",
      "run id: 0522e50e249f4d0dba5b13b02b9e1069, rmse: 6.2962\n",
      "run id: 47e12e7c04f74dfb88b0faee9350ed4d, rmse: 6.2962\n",
      "run id: 2d9bea853b934c298cc3efa164e5703d, rmse: 6.2962\n",
      "run id: 4608128aae0145d4940e01cc053a0557, rmse: 6.3052\n",
      "run id: 465238221fc34df5a0e8297dc5a8c03c, rmse: 6.3216\n"
     ]
    }
   ],
   "source": [
    "# Create New Experiment. Don't confuse it with mlflow.set_experiment()\n",
    "# client.create_experiment(name='new-experiment') \n",
    "\n",
    "# Search for runs in an experiment\n",
    "runs = client.search_runs(experiment_ids='1',\n",
    "                          # filter_string include filters like \"params.model='xgboost'\" or \"tags.developer='Joses'\"\n",
    "                          filter_string=\"\", \n",
    "                          run_view_type=ViewType.ACTIVE_ONLY, # View only succesful model runs\n",
    "                          max_results=6,\n",
    "                          order_by=['metrics.rmse ASC'] # Sort by RMSE in ascending order\n",
    "                         )\n",
    "\n",
    "# Print out the run search. Output is usually a list\n",
    "for run in runs:\n",
    "    print(f\"run id: {run.info.run_id}, rmse: {run.data.metrics['rmse']:.4f}\")"
   ]
  },
  {
   "cell_type": "markdown",
   "id": "25ce5e82",
   "metadata": {},
   "source": [
    "### Registering a model from terminal"
   ]
  },
  {
   "cell_type": "code",
   "execution_count": 4,
   "id": "d7819539",
   "metadata": {},
   "outputs": [],
   "source": [
    "run_id = '4608128aae0145d4940e01cc053a0557'\n",
    "artifact_model_fol = 'model_flow'\n",
    "model_uri = f\"runs:/{run_id}/{artifact_model_fol}\"\n",
    "\n",
    "mlflow.set_tracking_uri('http://localhost:5000')\n",
    "# name = name of the MLFlow registry where different model versions can be reviewed\n",
    "mlflow.register_model(model_uri=model_uri,name='nyc-taxi')"
   ]
  },
  {
   "cell_type": "markdown",
   "id": "7c71d650",
   "metadata": {},
   "source": [
    "### View the status of versions in a registered model"
   ]
  },
  {
   "cell_type": "code",
   "execution_count": 6,
   "id": "0a1c0444",
   "metadata": {},
   "outputs": [
    {
     "name": "stderr",
     "output_type": "stream",
     "text": [
      "2023/04/09 17:38:43 INFO mlflow.store.db.utils: Creating initial MLflow database tables...\n",
      "2023/04/09 17:38:43 INFO mlflow.store.db.utils: Updating database tables\n",
      "INFO  [alembic.runtime.migration] Context impl SQLiteImpl.\n",
      "INFO  [alembic.runtime.migration] Will assume non-transactional DDL.\n"
     ]
    },
    {
     "name": "stdout",
     "output_type": "stream",
     "text": [
      "Version: 1, Stage: Staging\n",
      "Version: 2, Stage: None\n"
     ]
    }
   ],
   "source": [
    "model_name = 'nyc-taxi'\n",
    "latest_versions = client.get_latest_versions(name=model_name)\n",
    "\n",
    "for version in latest_versions:\n",
    "    print(f\"Version: {version.version}, Stage: {version.current_stage}\")"
   ]
  },
  {
   "cell_type": "markdown",
   "id": "29e04fb8",
   "metadata": {},
   "source": [
    "### Stage registered model versions from terminal\n",
    "I'm staging the version 2 model"
   ]
  },
  {
   "cell_type": "code",
   "execution_count": 10,
   "id": "276a8cb0",
   "metadata": {},
   "outputs": [
    {
     "data": {
      "text/plain": [
       "<ModelVersion: creation_timestamp=1681061205955, current_stage='Staging', description='The model v.2 was transitioned to staging on 2023-04-09', last_updated_timestamp=1681062338786, name='nyc-taxi', run_id='4608128aae0145d4940e01cc053a0557', run_link='', source='/home/ubuntu/mlops_joses/notebooks/mlruns/1/4608128aae0145d4940e01cc053a0557/artifacts/model_flow', status='READY', status_message=None, tags={}, user_id=None, version=2>"
      ]
     },
     "execution_count": 10,
     "metadata": {},
     "output_type": "execute_result"
    }
   ],
   "source": [
    "client.transition_model_version_stage(name=model_name, version=2, stage='Staging',\n",
    "                                      archive_existing_versions=False)\n",
    "\n",
    "# Include descriptions about the model that was staged\n",
    "tday = datetime.today().date()\n",
    "client.update_model_version(name=model_name,version=2,\n",
    "                            description=f'The model v.{2} was transitioned to {\"staging\"} on {tday}')"
   ]
  },
  {
   "cell_type": "markdown",
   "id": "85ab403f",
   "metadata": {},
   "source": [
    "### I'm setting model v1 to production"
   ]
  },
  {
   "cell_type": "code",
   "execution_count": 21,
   "id": "6606bb8a",
   "metadata": {},
   "outputs": [
    {
     "data": {
      "text/plain": [
       "<ModelVersion: creation_timestamp=1681056411791, current_stage='Production', description='The model v.1 was transitioned to production on 2023-04-09', last_updated_timestamp=1681063567629, name='nyc-taxi', run_id='c0c0c61d81ca42edb70508cb41125589', run_link='', source='/home/ubuntu/mlops_joses/notebooks/mlruns/1/c0c0c61d81ca42edb70508cb41125589/artifacts/model_mlflow', status='READY', status_message=None, tags={'Model': 'xgboost_january'}, user_id=None, version=1>"
      ]
     },
     "execution_count": 21,
     "metadata": {},
     "output_type": "execute_result"
    }
   ],
   "source": [
    "client.transition_model_version_stage(name=model_name, version=1, stage='Production',\n",
    "                                      archive_existing_versions=False)\n",
    "\n",
    "# Include descriptions about the model that was staged\n",
    "tday = datetime.today().date()\n",
    "client.update_model_version(name=model_name,version=1,\n",
    "                            description=f'The model v.{1} was transitioned to {\"production\"} on {tday}')"
   ]
  },
  {
   "cell_type": "markdown",
   "id": "0917a9ce",
   "metadata": {},
   "source": [
    "## Test the model prediction on Taxi Data from the month of March 2021"
   ]
  },
  {
   "cell_type": "code",
   "execution_count": 17,
   "id": "8488caec",
   "metadata": {},
   "outputs": [],
   "source": [
    "def load_data(path):\n",
    "    df = pd.read_parquet(path)\n",
    "\n",
    "    # Create a duration column to calculate the lenght of each trip in minutes\n",
    "    df['duration'] = df.lpep_dropoff_datetime - df.lpep_pickup_datetime\n",
    "    # df.duration = df.duration.apply(lambda x: x.total_seconds()/60)\n",
    "    # Faster than apply with lambda function\n",
    "    df['duration'] = df.duration.dt.total_seconds() / 60\n",
    "\n",
    "    # Select only rows where the duration is between 1-60 minuts\n",
    "    df = df[(df.duration>=1) & (df.duration<=60)].reset_index(drop=True)\n",
    "    \n",
    "    categorical = ['PULocationID','DOLocationID']\n",
    "    # Convert the categorical columns to string so the OHE will work\n",
    "    df[categorical] = df[categorical].astype(str)\n",
    "    \n",
    "    return df\n",
    "\n",
    "def preprocess(df, dv):\n",
    "    # Merge the pickup and drop off locations\n",
    "    df['PU_DO'] = df['PULocationID'] + '_' + df['DOLocationID']\n",
    "    categorical = ['PU_DO']\n",
    "    numerical = ['trip_distance']\n",
    "    train_dicts = df[categorical + numerical].to_dict(orient='records')\n",
    "    return dv.transform(train_dicts)\n",
    "\n",
    "def test_model(name, stage, X_test, y_test):\n",
    "    model = mlflow.pyfunc.load_model(f\"models:/{name}/{stage}\")\n",
    "    y_pred = model.predict(X_test)\n",
    "    return {\"rmse\":mean_squared_error(y_test,y_pred, squared=False)}\n",
    "    \n"
   ]
  },
  {
   "cell_type": "markdown",
   "id": "0216dfbe",
   "metadata": {},
   "source": [
    "### Run the inference"
   ]
  },
  {
   "cell_type": "code",
   "execution_count": 25,
   "id": "52dc9f89",
   "metadata": {},
   "outputs": [
    {
     "name": "stdout",
     "output_type": "stream",
     "text": [
      "CPU times: user 10.2 s, sys: 0 ns, total: 10.2 s\n",
      "Wall time: 2.7 s\n"
     ]
    },
    {
     "data": {
      "text/plain": [
       "{'rmse': 6.245703198557914}"
      ]
     },
     "execution_count": 25,
     "metadata": {},
     "output_type": "execute_result"
    }
   ],
   "source": [
    "df = load_data('data/green_tripdata_2021-03.parquet')\n",
    "\n",
    "# Download the preprocessor that was saved in the version 1 model to the current working dir.\n",
    "mlflow.artifacts.download_artifacts(run_id='c0c0c61d81ca42edb70508cb41125589', \n",
    "                                    artifact_path='preproc',dst_path='.')\n",
    "# Load the saved dictionary vectorizer\n",
    "with open(\"preproc/preproc.b\",'rb') as f_in:\n",
    "    dv = pickle.load(f_in)\n",
    "    \n",
    "# Create the test data\n",
    "X_test = preprocess(df, dv)\n",
    "y_test = df['duration'].to_numpy()\n",
    "\n",
    "# Use the v1. model for inference. Measure the run time too\n",
    "%time test_model(name=model_name, stage='Production', X_test=X_test, y_test=y_test)\n",
    "\n",
    "# Test the v2. staged model for inference. \n",
    "# It wouldn't work because the model was not saved to an artifact\n",
    "# %time test_model(name=model_name, stage='Staging', X_test=X_test, y_test=y_test)"
   ]
  },
  {
   "cell_type": "code",
   "execution_count": null,
   "id": "67225146",
   "metadata": {},
   "outputs": [],
   "source": []
  }
 ],
 "metadata": {
  "kernelspec": {
   "display_name": "Python 3 (ipykernel)",
   "language": "python",
   "name": "python3"
  },
  "language_info": {
   "codemirror_mode": {
    "name": "ipython",
    "version": 3
   },
   "file_extension": ".py",
   "mimetype": "text/x-python",
   "name": "python",
   "nbconvert_exporter": "python",
   "pygments_lexer": "ipython3",
   "version": "3.9.16"
  }
 },
 "nbformat": 4,
 "nbformat_minor": 5
}
