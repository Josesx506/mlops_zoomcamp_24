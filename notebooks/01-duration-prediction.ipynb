{
 "cells": [
  {
   "cell_type": "code",
   "execution_count": 1,
   "id": "579cea87",
   "metadata": {},
   "outputs": [],
   "source": [
    "import matplotlib.pyplot as plt\n",
    "import pandas as pd\n",
    "import pickle\n",
    "from sklearn.feature_extraction import DictVectorizer\n",
    "from sklearn.linear_model import LinearRegression,Lasso\n",
    "from sklearn.metrics import mean_squared_error\n",
    "import seaborn as sns\n"
   ]
  },
  {
   "cell_type": "code",
   "execution_count": 3,
   "id": "c6a9c0ee",
   "metadata": {},
   "outputs": [
    {
     "data": {
      "text/html": [
       "<div>\n",
       "<style scoped>\n",
       "    .dataframe tbody tr th:only-of-type {\n",
       "        vertical-align: middle;\n",
       "    }\n",
       "\n",
       "    .dataframe tbody tr th {\n",
       "        vertical-align: top;\n",
       "    }\n",
       "\n",
       "    .dataframe thead th {\n",
       "        text-align: right;\n",
       "    }\n",
       "</style>\n",
       "<table border=\"1\" class=\"dataframe\">\n",
       "  <thead>\n",
       "    <tr style=\"text-align: right;\">\n",
       "      <th></th>\n",
       "      <th>VendorID</th>\n",
       "      <th>lpep_pickup_datetime</th>\n",
       "      <th>lpep_dropoff_datetime</th>\n",
       "      <th>store_and_fwd_flag</th>\n",
       "      <th>RatecodeID</th>\n",
       "      <th>PULocationID</th>\n",
       "      <th>DOLocationID</th>\n",
       "      <th>passenger_count</th>\n",
       "      <th>trip_distance</th>\n",
       "      <th>fare_amount</th>\n",
       "      <th>...</th>\n",
       "      <th>mta_tax</th>\n",
       "      <th>tip_amount</th>\n",
       "      <th>tolls_amount</th>\n",
       "      <th>ehail_fee</th>\n",
       "      <th>improvement_surcharge</th>\n",
       "      <th>total_amount</th>\n",
       "      <th>payment_type</th>\n",
       "      <th>trip_type</th>\n",
       "      <th>congestion_surcharge</th>\n",
       "      <th>duration</th>\n",
       "    </tr>\n",
       "  </thead>\n",
       "  <tbody>\n",
       "    <tr>\n",
       "      <th>0</th>\n",
       "      <td>2</td>\n",
       "      <td>2021-01-01 00:15:56</td>\n",
       "      <td>2021-01-01 00:19:52</td>\n",
       "      <td>N</td>\n",
       "      <td>1.0</td>\n",
       "      <td>43</td>\n",
       "      <td>151</td>\n",
       "      <td>1.0</td>\n",
       "      <td>1.01</td>\n",
       "      <td>5.5</td>\n",
       "      <td>...</td>\n",
       "      <td>0.5</td>\n",
       "      <td>0.00</td>\n",
       "      <td>0.0</td>\n",
       "      <td>None</td>\n",
       "      <td>0.3</td>\n",
       "      <td>6.80</td>\n",
       "      <td>2.0</td>\n",
       "      <td>1.0</td>\n",
       "      <td>0.00</td>\n",
       "      <td>3.933333</td>\n",
       "    </tr>\n",
       "    <tr>\n",
       "      <th>1</th>\n",
       "      <td>2</td>\n",
       "      <td>2021-01-01 00:25:59</td>\n",
       "      <td>2021-01-01 00:34:44</td>\n",
       "      <td>N</td>\n",
       "      <td>1.0</td>\n",
       "      <td>166</td>\n",
       "      <td>239</td>\n",
       "      <td>1.0</td>\n",
       "      <td>2.53</td>\n",
       "      <td>10.0</td>\n",
       "      <td>...</td>\n",
       "      <td>0.5</td>\n",
       "      <td>2.81</td>\n",
       "      <td>0.0</td>\n",
       "      <td>None</td>\n",
       "      <td>0.3</td>\n",
       "      <td>16.86</td>\n",
       "      <td>1.0</td>\n",
       "      <td>1.0</td>\n",
       "      <td>2.75</td>\n",
       "      <td>8.750000</td>\n",
       "    </tr>\n",
       "    <tr>\n",
       "      <th>2</th>\n",
       "      <td>2</td>\n",
       "      <td>2021-01-01 00:45:57</td>\n",
       "      <td>2021-01-01 00:51:55</td>\n",
       "      <td>N</td>\n",
       "      <td>1.0</td>\n",
       "      <td>41</td>\n",
       "      <td>42</td>\n",
       "      <td>1.0</td>\n",
       "      <td>1.12</td>\n",
       "      <td>6.0</td>\n",
       "      <td>...</td>\n",
       "      <td>0.5</td>\n",
       "      <td>1.00</td>\n",
       "      <td>0.0</td>\n",
       "      <td>None</td>\n",
       "      <td>0.3</td>\n",
       "      <td>8.30</td>\n",
       "      <td>1.0</td>\n",
       "      <td>1.0</td>\n",
       "      <td>0.00</td>\n",
       "      <td>5.966667</td>\n",
       "    </tr>\n",
       "    <tr>\n",
       "      <th>3</th>\n",
       "      <td>2</td>\n",
       "      <td>2020-12-31 23:57:51</td>\n",
       "      <td>2021-01-01 00:04:56</td>\n",
       "      <td>N</td>\n",
       "      <td>1.0</td>\n",
       "      <td>168</td>\n",
       "      <td>75</td>\n",
       "      <td>1.0</td>\n",
       "      <td>1.99</td>\n",
       "      <td>8.0</td>\n",
       "      <td>...</td>\n",
       "      <td>0.5</td>\n",
       "      <td>0.00</td>\n",
       "      <td>0.0</td>\n",
       "      <td>None</td>\n",
       "      <td>0.3</td>\n",
       "      <td>9.30</td>\n",
       "      <td>2.0</td>\n",
       "      <td>1.0</td>\n",
       "      <td>0.00</td>\n",
       "      <td>7.083333</td>\n",
       "    </tr>\n",
       "    <tr>\n",
       "      <th>4</th>\n",
       "      <td>2</td>\n",
       "      <td>2021-01-01 00:26:31</td>\n",
       "      <td>2021-01-01 00:28:50</td>\n",
       "      <td>N</td>\n",
       "      <td>1.0</td>\n",
       "      <td>75</td>\n",
       "      <td>75</td>\n",
       "      <td>6.0</td>\n",
       "      <td>0.45</td>\n",
       "      <td>3.5</td>\n",
       "      <td>...</td>\n",
       "      <td>0.5</td>\n",
       "      <td>0.96</td>\n",
       "      <td>0.0</td>\n",
       "      <td>None</td>\n",
       "      <td>0.3</td>\n",
       "      <td>5.76</td>\n",
       "      <td>1.0</td>\n",
       "      <td>1.0</td>\n",
       "      <td>0.00</td>\n",
       "      <td>2.316667</td>\n",
       "    </tr>\n",
       "  </tbody>\n",
       "</table>\n",
       "<p>5 rows × 21 columns</p>\n",
       "</div>"
      ],
      "text/plain": [
       "   VendorID lpep_pickup_datetime lpep_dropoff_datetime store_and_fwd_flag  \\\n",
       "0         2  2021-01-01 00:15:56   2021-01-01 00:19:52                  N   \n",
       "1         2  2021-01-01 00:25:59   2021-01-01 00:34:44                  N   \n",
       "2         2  2021-01-01 00:45:57   2021-01-01 00:51:55                  N   \n",
       "3         2  2020-12-31 23:57:51   2021-01-01 00:04:56                  N   \n",
       "4         2  2021-01-01 00:26:31   2021-01-01 00:28:50                  N   \n",
       "\n",
       "   RatecodeID  PULocationID  DOLocationID  passenger_count  trip_distance  \\\n",
       "0         1.0            43           151              1.0           1.01   \n",
       "1         1.0           166           239              1.0           2.53   \n",
       "2         1.0            41            42              1.0           1.12   \n",
       "3         1.0           168            75              1.0           1.99   \n",
       "4         1.0            75            75              6.0           0.45   \n",
       "\n",
       "   fare_amount  ...  mta_tax  tip_amount  tolls_amount  ehail_fee  \\\n",
       "0          5.5  ...      0.5        0.00           0.0       None   \n",
       "1         10.0  ...      0.5        2.81           0.0       None   \n",
       "2          6.0  ...      0.5        1.00           0.0       None   \n",
       "3          8.0  ...      0.5        0.00           0.0       None   \n",
       "4          3.5  ...      0.5        0.96           0.0       None   \n",
       "\n",
       "  improvement_surcharge  total_amount  payment_type  trip_type  \\\n",
       "0                   0.3          6.80           2.0        1.0   \n",
       "1                   0.3         16.86           1.0        1.0   \n",
       "2                   0.3          8.30           1.0        1.0   \n",
       "3                   0.3          9.30           2.0        1.0   \n",
       "4                   0.3          5.76           1.0        1.0   \n",
       "\n",
       "   congestion_surcharge  duration  \n",
       "0                  0.00  3.933333  \n",
       "1                  2.75  8.750000  \n",
       "2                  0.00  5.966667  \n",
       "3                  0.00  7.083333  \n",
       "4                  0.00  2.316667  \n",
       "\n",
       "[5 rows x 21 columns]"
      ]
     },
     "metadata": {},
     "output_type": "display_data"
    }
   ],
   "source": [
    "df = pd.read_parquet('data/green_tripdata_2021-01.parquet')\n",
    "\n",
    "# Create a duration column to calculate the lenght of each trip in minutes\n",
    "df['duration'] = df.lpep_dropoff_datetime - df.lpep_pickup_datetime\n",
    "df.duration = df.duration.apply(lambda x: x.total_seconds()/60)\n",
    "\n",
    "# Select only rows where the duration is between 1-60 minuts\n",
    "df = df[(df.duration>=1) & (df.duration<=60)].reset_index(drop=True)\n",
    "\n",
    "# Select only rows where the taxis were dispatched\n",
    "# df = df[df.trip_type == 2].reset_index(drop=True)\n",
    "display(df.head())"
   ]
  },
  {
   "cell_type": "markdown",
   "id": "00e6ea2c",
   "metadata": {},
   "source": [
    "### Print the preliminary stats and plot the distribution of the target variable"
   ]
  },
  {
   "cell_type": "code",
   "execution_count": 8,
   "id": "fbce3b4a",
   "metadata": {},
   "outputs": [
    {
     "data": {
      "image/png": "[encoded data removed]",
      "text/plain": [
       "<Figure size 800x400 with 1 Axes>"
      ]
     },
     "metadata": {},
     "output_type": "display_data"
    }
   ],
   "source": [
    "# df.dtypes\n",
    "# display(df.duration.describe(percentiles=[0.95,0.98,0.99]))\n",
    "sns.displot(df.duration, height=4,aspect=2).fig.set_dpi(100)\n",
    "plt.show()"
   ]
  },
  {
   "cell_type": "markdown",
   "id": "f0c01d0b",
   "metadata": {},
   "source": [
    "### Select the columns to train the model and perform one-hot encoding (OHE) on catergorical columns"
   ]
  },
  {
   "cell_type": "code",
   "execution_count": 9,
   "id": "a0a4a4ec",
   "metadata": {},
   "outputs": [],
   "source": [
    "categorical = ['PULocationID','DOLocationID']\n",
    "numerical = ['trip_distance']\n",
    "\n",
    "# Convert the categorical columns to string so the OHE will work\n",
    "df[categorical] = df[categorical].astype(str)\n",
    "\n",
    "# Call the dictionary vectorizer from sklearn\n",
    "dv = DictVectorizer()\n",
    "\n",
    "# Convert the columns of interest to a dictionary\n",
    "train_dicts = df[categorical + numerical].to_dict(orient='records')"
   ]
  },
  {
   "cell_type": "markdown",
   "id": "19ebefbc",
   "metadata": {},
   "source": [
    "### Create the training data"
   ]
  },
  {
   "cell_type": "code",
   "execution_count": 10,
   "id": "ec2e90b8",
   "metadata": {},
   "outputs": [],
   "source": [
    "X_train = dv.fit_transform(train_dicts)\n",
    "# To view all the categorical locations\n",
    "# print(dv.feature_names_)"
   ]
  },
  {
   "cell_type": "markdown",
   "id": "feb34a5d",
   "metadata": {},
   "source": [
    "### Create the target dataset"
   ]
  },
  {
   "cell_type": "code",
   "execution_count": 11,
   "id": "f36dc4aa",
   "metadata": {},
   "outputs": [],
   "source": [
    "target = 'duration'\n",
    "y_train = df[target].to_numpy()"
   ]
  },
  {
   "cell_type": "markdown",
   "id": "a06ad13d",
   "metadata": {},
   "source": [
    "### Create the model"
   ]
  },
  {
   "cell_type": "code",
   "execution_count": 12,
   "id": "eaa2e4ed",
   "metadata": {},
   "outputs": [],
   "source": [
    "lr  = LinearRegression()\n",
    "lr.fit(X_train, y_train)\n",
    "\n",
    "y_pred = lr.predict(X_train)"
   ]
  },
  {
   "cell_type": "markdown",
   "id": "e808c206",
   "metadata": {},
   "source": [
    "### Plot the difference between the trained and predicted data"
   ]
  },
  {
   "cell_type": "code",
   "execution_count": 13,
   "id": "385b8772",
   "metadata": {},
   "outputs": [
    {
     "data": {
      "image/png": "[encoded data removed]",
      "text/plain": [
       "<Figure size 600x300 with 1 Axes>"
      ]
     },
     "metadata": {},
     "output_type": "display_data"
    }
   ],
   "source": [
    "fig,ax = plt.subplots(1,1,figsize=(6,3))\n",
    "sns.histplot(y_pred, label='prediction', ax=ax, kde=True, stat=\"density\")\n",
    "sns.histplot(y_train, label='actual', ax=ax, kde=True, stat=\"density\")\n",
    "plt.show()"
   ]
  },
  {
   "cell_type": "code",
   "execution_count": 14,
   "id": "c30df2b6",
   "metadata": {},
   "outputs": [
    {
     "name": "stdout",
     "output_type": "stream",
     "text": [
      "The baseline model is wrong by 9.84 minutes\n"
     ]
    }
   ],
   "source": [
    "# Setting squared to False is like rms\n",
    "mse = mean_squared_error(y_train, y_pred, squared=False)\n",
    "print(f'The baseline model is wrong by {mse:.2f} minutes')"
   ]
  },
  {
   "cell_type": "markdown",
   "id": "e2c59318",
   "metadata": {},
   "source": [
    "### Create a function to load and preprocess datasets by file paths"
   ]
  },
  {
   "cell_type": "code",
   "execution_count": 2,
   "id": "c659545d",
   "metadata": {},
   "outputs": [],
   "source": [
    "def load_data(path):\n",
    "    df = pd.read_parquet(path)\n",
    "\n",
    "    # Create a duration column to calculate the lenght of each trip in minutes\n",
    "    df['duration'] = df.lpep_dropoff_datetime - df.lpep_pickup_datetime\n",
    "    df.duration = df.duration.apply(lambda x: x.total_seconds()/60)\n",
    "\n",
    "    # Select only rows where the duration is between 1-60 minuts\n",
    "    df = df[(df.duration>=1) & (df.duration<=60)].reset_index(drop=True)\n",
    "    \n",
    "    categorical = ['PULocationID','DOLocationID']\n",
    "    # Convert the categorical columns to string so the OHE will work\n",
    "    df[categorical] = df[categorical].astype(str)\n",
    "    \n",
    "    # Merge the pickup and drop off locations\n",
    "    df['PU_DO'] = df['PULocationID'] + '_' + df['DOLocationID']\n",
    "    \n",
    "    return df\n"
   ]
  },
  {
   "cell_type": "markdown",
   "id": "61adc3e4",
   "metadata": {},
   "source": [
    "### Load the training dataframes"
   ]
  },
  {
   "cell_type": "code",
   "execution_count": 3,
   "id": "4bcabe0f",
   "metadata": {},
   "outputs": [],
   "source": [
    "df_train = load_data('data/green_tripdata_2021-01.parquet') # January\n",
    "df_val = load_data('data/green_tripdata_2021-02.parquet') # February"
   ]
  },
  {
   "cell_type": "markdown",
   "id": "01349719",
   "metadata": {},
   "source": [
    "### Prepare the training dataset"
   ]
  },
  {
   "cell_type": "code",
   "execution_count": 4,
   "id": "8c0f3a62",
   "metadata": {},
   "outputs": [],
   "source": [
    "categorical = ['PU_DO']\n",
    "numerical = ['trip_distance']\n",
    "\n",
    "# Call the dictionary vectorizer from sklearn\n",
    "dv = DictVectorizer()\n",
    "\n",
    "# Convert the columns of interest to a dictionary\n",
    "train_dict = df_train[categorical + numerical].to_dict(orient='records')\n",
    "val_dict = df_val[categorical + numerical].to_dict(orient='records')\n",
    "\n",
    "# Create the training and test data\n",
    "X_train = dv.fit_transform(train_dict)\n",
    "X_val = dv.transform(val_dict)\n",
    "\n",
    "# Create the target variables\n",
    "y_train = df_train['duration'].to_numpy()\n",
    "y_val = df_val['duration'].to_numpy()"
   ]
  },
  {
   "cell_type": "markdown",
   "id": "5f32a6d8",
   "metadata": {},
   "source": [
    "### Train the model and predict on the validation dataset"
   ]
  },
  {
   "cell_type": "code",
   "execution_count": 5,
   "id": "c130f28a",
   "metadata": {},
   "outputs": [],
   "source": [
    "lr  = LinearRegression()\n",
    "lr.fit(X_train, y_train)\n",
    "\n",
    "y_pred = lr.predict(X_val)"
   ]
  },
  {
   "cell_type": "markdown",
   "id": "45a81d58",
   "metadata": {},
   "source": [
    "### Plot the difference between the training and predicition"
   ]
  },
  {
   "cell_type": "code",
   "execution_count": 10,
   "id": "67ee7c4a",
   "metadata": {},
   "outputs": [
    {
     "data": {
      "image/png": "[encoded data removed]",
      "text/plain": [
       "<Figure size 600x300 with 1 Axes>"
      ]
     },
     "metadata": {},
     "output_type": "display_data"
    }
   ],
   "source": [
    "fig,ax = plt.subplots(1,1,figsize=(6,3))\n",
    "sns.histplot(y_pred, label='prediction', ax=ax, kde=True, stat=\"density\")\n",
    "sns.histplot(y_val, label='actual', ax=ax, kde=True, stat=\"density\")\n",
    "plt.legend()\n",
    "plt.show()"
   ]
  },
  {
   "cell_type": "markdown",
   "id": "cfe2a7f9",
   "metadata": {},
   "source": [
    "### Print the model errors"
   ]
  },
  {
   "cell_type": "code",
   "execution_count": 8,
   "id": "62cfaf2b",
   "metadata": {},
   "outputs": [
    {
     "name": "stdout",
     "output_type": "stream",
     "text": [
      "The baseline model is wrong by 7.76 minutes\n"
     ]
    }
   ],
   "source": [
    "# Setting squared to False is like rms\n",
    "mse = mean_squared_error(y_val, y_pred, squared=False)\n",
    "print(f'The baseline model is wrong by {mse:.2f} minutes')"
   ]
  },
  {
   "cell_type": "markdown",
   "id": "6aec0ada",
   "metadata": {},
   "source": [
    "### Save the trained model"
   ]
  },
  {
   "cell_type": "code",
   "execution_count": 9,
   "id": "a0acf8ef",
   "metadata": {},
   "outputs": [],
   "source": [
    "# Save the model\n",
    "with open('models/lin_reg.bin','wb') as f_out:\n",
    "    pickle.dump((dv, lr), f_out)"
   ]
  },
  {
   "cell_type": "code",
   "execution_count": null,
   "id": "76684221",
   "metadata": {},
   "outputs": [],
   "source": []
  }
 ],
 "metadata": {
  "kernelspec": {
   "display_name": "Python 3 (ipykernel)",
   "language": "python",
   "name": "python3"
  },
  "language_info": {
   "codemirror_mode": {
    "name": "ipython",
    "version": 3
   },
   "file_extension": ".py",
   "mimetype": "text/x-python",
   "name": "python",
   "nbconvert_exporter": "python",
   "pygments_lexer": "ipython3",
   "version": "3.10.9"
  }
 },
 "nbformat": 4,
 "nbformat_minor": 5
}
